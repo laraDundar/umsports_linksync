{
 "cells": [
  {
   "cell_type": "code",
   "id": "4f6a4485-2fd1-47bd-a1c2-2ef0cf16a268",
   "metadata": {
    "ExecuteTime": {
     "end_time": "2025-02-19T13:59:29.785267Z",
     "start_time": "2025-02-19T13:59:28.677498Z"
    }
   },
   "source": [
    "import os\n",
    "import firebase_admin\n",
    "from firebase_admin import credentials, db"
   ],
   "outputs": [],
   "execution_count": 1
  },
  {
   "cell_type": "code",
   "id": "45e08422-c211-420a-ab46-14934cbb6989",
   "metadata": {
    "ExecuteTime": {
     "end_time": "2025-02-19T13:59:32.948688Z",
     "start_time": "2025-02-19T13:59:32.678729Z"
    }
   },
   "source": [
    "\n",
    "# ✅ Get Firebase credentials path\n",
    "cred_path = os.getenv(\"FIREBASE_KEY_PATH\")\n",
    "\n",
    "if not cred_path:\n",
    "    raise ValueError(\"FIREBASE_KEY_PATH is not set. Make sure the environment variable is configured.\")\n",
    "\n",
    "# ✅ Define database URL\n",
    "DATABASE_URL = \"https://umsports-linksync-default-rtdb.europe-west1.firebasedatabase.app/\"\n",
    "\n",
    "# ✅ Print debug info\n",
    "print(\"🔍 Using Firebase Key Path:\", cred_path)\n",
    "print(\"🔍 Using Database URL:\", DATABASE_URL)\n",
    "\n",
    "# ✅ Initialize Firebase if not already initialized\n",
    "if not firebase_admin._apps:\n",
    "    cred = credentials.Certificate(cred_path)\n",
    "    firebase_admin.initialize_app(cred, {'databaseURL': DATABASE_URL})\n",
    "\n",
    "# ✅ Check if databaseURL is set correctly\n",
    "app = firebase_admin.get_app()\n",
    "print(\"✅ Firebase initialized with options:\", app.options)\n",
    "\n",
    "# ✅ Explicitly print databaseURL\n",
    "print(\"🔍 Confirmed databaseURL in Firebase app:\", app.options.get(\"databaseURL\"))\n",
    "\n",
    "# ✅ Connect to Realtime Database\n",
    "ref = db.reference(\"/\")  # Root of the database\n",
    "\n",
    "# ✅ Test writing data\n",
    "ref.child(\"test\").set({\n",
    "    \"message\": \"Realtime Database is working!\"\n",
    "})\n",
    "\n",
    "print(\"✅ Realtime Database connection successful! Check Firebase Console for 'test' data.\")"
   ],
   "outputs": [
    {
     "name": "stdout",
     "output_type": "stream",
     "text": [
      "🔍 Using Firebase Key Path: C:\\Users\\maria\\Documents\\umsports-linksync-firebase-adminsdk-fbsvc-11d77d7d69.json\n",
      "🔍 Using Database URL: https://umsports-linksync-default-rtdb.europe-west1.firebasedatabase.app/\n",
      "✅ Firebase initialized with options: <firebase_admin._AppOptions object at 0x00000141D2562840>\n",
      "🔍 Confirmed databaseURL in Firebase app: https://umsports-linksync-default-rtdb.europe-west1.firebasedatabase.app/\n",
      "✅ Realtime Database connection successful! Check Firebase Console for 'test' data.\n"
     ]
    }
   ],
   "execution_count": 2
  },
  {
   "cell_type": "code",
   "id": "a5eb3f1d-d43c-4e2a-aa31-b930fd16a0c5",
   "metadata": {
    "ExecuteTime": {
     "end_time": "2025-02-19T13:53:06.326261Z",
     "start_time": "2025-02-19T13:53:06.323221Z"
    }
   },
   "source": [],
   "outputs": [],
   "execution_count": null
  },
  {
   "metadata": {},
   "cell_type": "code",
   "outputs": [],
   "execution_count": null,
   "source": "",
   "id": "87806ee9730a8606"
  }
 ],
 "metadata": {
  "kernelspec": {
   "display_name": "Python 3 (ipykernel)",
   "language": "python",
   "name": "python3"
  },
  "language_info": {
   "codemirror_mode": {
    "name": "ipython",
    "version": 3
   },
   "file_extension": ".py",
   "mimetype": "text/x-python",
   "name": "python",
   "nbconvert_exporter": "python",
   "pygments_lexer": "ipython3",
   "version": "3.12.5"
  }
 },
 "nbformat": 4,
 "nbformat_minor": 5
}
