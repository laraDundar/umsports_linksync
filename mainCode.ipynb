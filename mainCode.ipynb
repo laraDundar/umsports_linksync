{
 "cells": [
  {
   "cell_type": "code",
   "execution_count": 8,
   "id": "efccdbd3-ee7f-4be2-8cad-6eba7e489b90",
   "metadata": {},
   "outputs": [],
   "source": [
    "import os\n",
    "import firebase_admin\n",
    "from firebase_admin import credentials, db\n",
    "import pandas as pd"
   ]
  },
  {
   "cell_type": "code",
   "execution_count": 9,
   "id": "2873e819-7ef4-4c98-98d0-73d3b2163101",
   "metadata": {},
   "outputs": [
    {
     "name": "stdout",
     "output_type": "stream",
     "text": [
      "🔍 Using Firebase Key Path: C:\\Users\\lara\\Documents\\firebase_key.json\n",
      "🔍 Using Database URL: https://umsports-linksync-default-rtdb.europe-west1.firebasedatabase.app/\n",
      "✅ Firebase initialized with options: <firebase_admin._AppOptions object at 0x0000015C7F4C04D0>\n",
      "🔍 Confirmed databaseURL in Firebase app: https://umsports-linksync-default-rtdb.europe-west1.firebasedatabase.app/\n",
      "✅ Realtime Database connection successful! Check Firebase Console for 'test' data.\n"
     ]
    }
   ],
   "source": [
    "# ✅ Get Firebase credentials path\n",
    "cred_path = os.getenv(\"FIREBASE_KEY_PATH\")\n",
    "\n",
    "if not cred_path:\n",
    "    raise ValueError(\"FIREBASE_KEY_PATH is not set. Make sure the environment variable is configured.\")\n",
    "\n",
    "# ✅ Define database URL\n",
    "DATABASE_URL = \"https://umsports-linksync-default-rtdb.europe-west1.firebasedatabase.app/\"\n",
    "\n",
    "# ✅ Print debug info\n",
    "print(\"🔍 Using Firebase Key Path:\", cred_path)\n",
    "print(\"🔍 Using Database URL:\", DATABASE_URL)\n",
    "\n",
    "# ✅ Initialize Firebase if not already initialized\n",
    "if not firebase_admin._apps:\n",
    "    cred = credentials.Certificate(cred_path)\n",
    "    firebase_admin.initialize_app(cred, {'databaseURL': DATABASE_URL})\n",
    "\n",
    "# ✅ Check if databaseURL is set correctly\n",
    "app = firebase_admin.get_app()\n",
    "print(\"✅ Firebase initialized with options:\", app.options)\n",
    "\n",
    "# ✅ Explicitly print databaseURL\n",
    "print(\"🔍 Confirmed databaseURL in Firebase app:\", app.options.get(\"databaseURL\"))\n",
    "\n",
    "# ✅ Connect to Realtime Database\n",
    "ref = db.reference(\"/\")  # Root of the database\n",
    "\n",
    "# ✅ Test writing data\n",
    "ref.child(\"test\").set({\n",
    "    \"message\": \"Realtime Database is working!\"\n",
    "})\n",
    "\n",
    "print(\"✅ Realtime Database connection successful! Check Firebase Console for 'test' data.\")"
   ]
  },
  {
   "cell_type": "code",
   "execution_count": 3,
   "id": "54c269ea-c722-44bf-9753-dd68ea0c5988",
   "metadata": {},
   "outputs": [
    {
     "name": "stdout",
     "output_type": "stream",
     "text": [
      "✅ All users uploaded to Firebase successfully!\n"
     ]
    }
   ],
   "source": [
    "def upload_users_to_firebase():\n",
    "    file_path = \"users.xlsx\"  # Ensure this file is in the correct path\n",
    "    users_df = pd.read_excel(file_path)\n",
    "\n",
    "    users_ref = db.reference(\"users\")  # Reference to Firebase \"users\" node\n",
    "\n",
    "    for _, row in users_df.iterrows():\n",
    "        username = row[\"Username\"]\n",
    "        password = row[\"Password\"]\n",
    "        name = row[\"Name\"]\n",
    "\n",
    "        # Add user data to Firebase\n",
    "        users_ref.child(username).set({\n",
    "            \"password\": password,\n",
    "            \"name\": name\n",
    "        })\n",
    "\n",
    "    print(\"✅ All users uploaded to Firebase successfully!\")\n",
    "\n",
    "# Run the function to upload users\n",
    "upload_users_to_firebase()"
   ]
  }
 ],
 "metadata": {
  "kernelspec": {
   "display_name": "Python 3 (ipykernel)",
   "language": "python",
   "name": "python3"
  },
  "language_info": {
   "codemirror_mode": {
    "name": "ipython",
    "version": 3
   },
   "file_extension": ".py",
   "mimetype": "text/x-python",
   "name": "python",
   "nbconvert_exporter": "python",
   "pygments_lexer": "ipython3",
   "version": "3.12.5"
  }
 },
 "nbformat": 4,
 "nbformat_minor": 5
}
