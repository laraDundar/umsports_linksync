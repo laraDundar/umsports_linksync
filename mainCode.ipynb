{
 "cells": [
  {
   "cell_type": "code",
   "execution_count": 1,
   "id": "efccdbd3-ee7f-4be2-8cad-6eba7e489b90",
   "metadata": {},
   "outputs": [
    {
     "name": "stderr",
     "output_type": "stream",
     "text": [
      "C:\\Users\\lara\\AppData\\Local\\Temp\\ipykernel_10488\\900411637.py:4: DeprecationWarning: \n",
      "Pyarrow will become a required dependency of pandas in the next major release of pandas (pandas 3.0),\n",
      "(to allow more performant data types, such as the Arrow string type, and better interoperability with other libraries)\n",
      "but was not found to be installed on your system.\n",
      "If this would cause problems for you,\n",
      "please provide us feedback at https://github.com/pandas-dev/pandas/issues/54466\n",
      "        \n",
      "  import pandas as pd\n"
     ]
    }
   ],
   "source": [
    "import os\n",
    "import firebase_admin\n",
    "from firebase_admin import credentials, db\n",
    "import pandas as pd\n",
    "import csv"
   ]
  },
  {
   "cell_type": "code",
   "execution_count": 2,
   "id": "2873e819-7ef4-4c98-98d0-73d3b2163101",
   "metadata": {},
   "outputs": [
    {
     "name": "stdout",
     "output_type": "stream",
     "text": [
      "🔍 Using Firebase Key Path: C:\\Users\\lara\\Documents\\firebase_key.json\n",
      "🔍 Using Database URL: https://umsports-linksync-default-rtdb.europe-west1.firebasedatabase.app/\n",
      "✅ Firebase initialized with options: <firebase_admin._AppOptions object at 0x00000281004E24B0>\n",
      "🔍 Confirmed databaseURL in Firebase app: https://umsports-linksync-default-rtdb.europe-west1.firebasedatabase.app/\n",
      "✅ Realtime Database connection successful! Check Firebase Console for 'test' data.\n"
     ]
    }
   ],
   "source": [
    "# ✅ Get Firebase credentials path\n",
    "cred_path = os.getenv(\"FIREBASE_KEY_PATH\")\n",
    "\n",
    "if not cred_path:\n",
    "    raise ValueError(\"FIREBASE_KEY_PATH is not set. Make sure the environment variable is configured.\")\n",
    "\n",
    "# ✅ Define database URL\n",
    "DATABASE_URL = \"https://umsports-linksync-default-rtdb.europe-west1.firebasedatabase.app/\"\n",
    "\n",
    "# ✅ Print debug info\n",
    "print(\"🔍 Using Firebase Key Path:\", cred_path)\n",
    "print(\"🔍 Using Database URL:\", DATABASE_URL)\n",
    "\n",
    "# ✅ Initialize Firebase if not already initialized\n",
    "if not firebase_admin._apps:\n",
    "    cred = credentials.Certificate(cred_path)\n",
    "    firebase_admin.initialize_app(cred, {'databaseURL': DATABASE_URL})\n",
    "\n",
    "# ✅ Check if databaseURL is set correctly\n",
    "app = firebase_admin.get_app()\n",
    "print(\"✅ Firebase initialized with options:\", app.options)\n",
    "\n",
    "# ✅ Explicitly print databaseURL\n",
    "print(\"🔍 Confirmed databaseURL in Firebase app:\", app.options.get(\"databaseURL\"))\n",
    "\n",
    "# ✅ Connect to Realtime Database\n",
    "ref = db.reference(\"/\")  # Root of the database\n",
    "\n",
    "# ✅ Test writing data\n",
    "ref.child(\"test\").set({\n",
    "    \"message\": \"Realtime Database is working!\"\n",
    "})\n",
    "\n",
    "print(\"✅ Realtime Database connection successful! Check Firebase Console for 'test' data.\")"
   ]
  },
  {
   "cell_type": "code",
   "execution_count": 3,
   "id": "54c269ea-c722-44bf-9753-dd68ea0c5988",
   "metadata": {},
   "outputs": [
    {
     "name": "stdout",
     "output_type": "stream",
     "text": [
      "✅ All users uploaded to Firebase successfully!\n"
     ]
    }
   ],
   "source": [
    "def upload_users_to_firebase():\n",
    "    file_path = \"users.xlsx\"\n",
    "    users_df = pd.read_excel(file_path)\n",
    "\n",
    "    users_ref = db.reference(\"users\")  # Reference to Firebase \"users\" node\n",
    "\n",
    "    for _, row in users_df.iterrows():\n",
    "        username = row[\"Username\"]\n",
    "        password = row[\"Password\"]\n",
    "        name = row[\"Name\"]\n",
    "\n",
    "        # Add user data to Firebase\n",
    "        users_ref.child(username).set({\n",
    "            \"password\": password,\n",
    "            \"name\": name\n",
    "        })\n",
    "\n",
    "    print(\"✅ All users uploaded to Firebase successfully!\")\n",
    "\n",
    "# Run the function to upload users\n",
    "upload_users_to_firebase()"
   ]
  },
  {
   "cell_type": "code",
   "execution_count": 6,
   "id": "7d4cfc3d",
   "metadata": {},
   "outputs": [
    {
     "name": "stdout",
     "output_type": "stream",
     "text": [
      "✅ All sessions uploaded to Firebase successfully!\n"
     ]
    }
   ],
   "source": [
    "def upload_sessions_to_firebase():\n",
    "    file_path = \"UM_SPORTS_Sessions.xlsx\"  # Ensure this file is in the correct path\n",
    "    sessions_df = pd.read_excel(file_path)\n",
    "\n",
    "    # ✅ Replace NaN values with None (null in Firebase)\n",
    "    sessions_df = sessions_df.where(pd.notna(sessions_df), None)\n",
    "\n",
    "    # ✅ Convert time and timestamp columns to string format (Firebase doesn't support these objects)\n",
    "    for col in [\"Session_Begin\", \"Session_End\", \"Date\"]:\n",
    "        if col in sessions_df.columns:\n",
    "            sessions_df[col] = sessions_df[col].astype(str)\n",
    "\n",
    "    sessions_ref = db.reference(\"sessions\")  # Reference to Firebase \"sessions\" node\n",
    "\n",
    "    for index, row in sessions_df.iterrows():\n",
    "        session_id = str(index)  # Unique ID for each session\n",
    "        session_data = row.to_dict()\n",
    "\n",
    "        # Add session data to Firebase\n",
    "        sessions_ref.child(session_id).set(session_data)\n",
    "\n",
    "    print(\"✅ All sessions uploaded to Firebase successfully!\")\n",
    "\n",
    "upload_sessions_to_firebase()"
   ]
  },
  {
   "cell_type": "code",
   "execution_count": 5,
   "id": "f87fd648-1786-48fb-a31e-fa1311c2105b",
   "metadata": {},
   "outputs": [
    {
     "name": "stdout",
     "output_type": "stream",
     "text": [
      "✅ All formatted sessions uploaded to Firebase successfully!\n"
     ]
    }
   ],
   "source": [
    "def upload_formatted_sessions_to_firebase():\n",
    "    file_path = \"Formatted_UM_SPORTS_Sessions.xlsx\"  # Ensure this file is in the correct path\n",
    "    sessions_df = pd.read_excel(file_path)\n",
    "\n",
    "    # ✅ Convert DataFrame to a List\n",
    "    formatted_sessions_list = sessions_df[\"Formatted_Session\"].dropna().tolist()\n",
    "\n",
    "    formatted_sessions_ref = db.reference(\"formatted_sessions\")  # Firebase node\n",
    "\n",
    "    # ✅ Upload data as a list instead of an object\n",
    "    formatted_sessions_ref.set(formatted_sessions_list)\n",
    "\n",
    "    print(\"✅ All formatted sessions uploaded to Firebase successfully!\")\n",
    "\n",
    "upload_formatted_sessions_to_firebase()"
   ]
  },
  {
   "cell_type": "code",
   "execution_count": null,
   "id": "a367d6a8-12ee-4190-8920-6c707294febf",
   "metadata": {},
   "outputs": [],
   "source": []
  }
 ],
 "metadata": {
  "kernelspec": {
   "display_name": "Python 3 (ipykernel)",
   "language": "python",
   "name": "python3"
  },
  "language_info": {
   "codemirror_mode": {
    "name": "ipython",
    "version": 3
   },
   "file_extension": ".py",
   "mimetype": "text/x-python",
   "name": "python",
   "nbconvert_exporter": "python",
   "pygments_lexer": "ipython3",
   "version": "3.12.5"
  }
 },
 "nbformat": 4,
 "nbformat_minor": 5
}
