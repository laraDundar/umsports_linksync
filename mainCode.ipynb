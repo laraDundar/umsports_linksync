{
 "cells": [
  {
   "cell_type": "code",
   "id": "efccdbd3-ee7f-4be2-8cad-6eba7e489b90",
   "metadata": {
    "ExecuteTime": {
     "end_time": "2025-02-23T10:12:48.680436Z",
     "start_time": "2025-02-23T10:12:46.345889Z"
    }
   },
   "source": [
    "import os\n",
    "import firebase_admin\n",
    "from firebase_admin import credentials, db\n",
    "import pandas as pd"
   ],
   "outputs": [],
   "execution_count": 2
  },
  {
   "cell_type": "code",
   "id": "2873e819-7ef4-4c98-98d0-73d3b2163101",
   "metadata": {
    "ExecuteTime": {
     "end_time": "2025-02-23T10:12:50.869694Z",
     "start_time": "2025-02-23T10:12:50.617911Z"
    }
   },
   "source": [
    "# ✅ Get Firebase credentials path\n",
    "cred_path = os.getenv(\"FIREBASE_KEY_PATH\")\n",
    "\n",
    "if not cred_path:\n",
    "    raise ValueError(\"FIREBASE_KEY_PATH is not set. Make sure the environment variable is configured.\")\n",
    "\n",
    "# ✅ Define database URL\n",
    "DATABASE_URL = \"https://umsports-linksync-default-rtdb.europe-west1.firebasedatabase.app/\"\n",
    "\n",
    "# ✅ Print debug info\n",
    "print(\"🔍 Using Firebase Key Path:\", cred_path)\n",
    "print(\"🔍 Using Database URL:\", DATABASE_URL)\n",
    "\n",
    "# ✅ Initialize Firebase if not already initialized\n",
    "if not firebase_admin._apps:\n",
    "    cred = credentials.Certificate(cred_path)\n",
    "    firebase_admin.initialize_app(cred, {'databaseURL': DATABASE_URL})\n",
    "\n",
    "# ✅ Check if databaseURL is set correctly\n",
    "app = firebase_admin.get_app()\n",
    "print(\"✅ Firebase initialized with options:\", app.options)\n",
    "\n",
    "# ✅ Explicitly print databaseURL\n",
    "print(\"🔍 Confirmed databaseURL in Firebase app:\", app.options.get(\"databaseURL\"))\n",
    "\n",
    "# ✅ Connect to Realtime Database\n",
    "ref = db.reference(\"/\")  # Root of the database\n",
    "\n",
    "# ✅ Test writing data\n",
    "ref.child(\"test\").set({\n",
    "    \"message\": \"Realtime Database is working!\"\n",
    "})\n",
    "\n",
    "print(\"✅ Realtime Database connection successful! Check Firebase Console for 'test' data.\")"
   ],
   "outputs": [
    {
     "name": "stdout",
     "output_type": "stream",
     "text": [
      "🔍 Using Firebase Key Path: C:\\Users\\maria\\Documents\\umsports-linksync-firebase-adminsdk-fbsvc-11d77d7d69.json\n",
      "🔍 Using Database URL: https://umsports-linksync-default-rtdb.europe-west1.firebasedatabase.app/\n",
      "✅ Firebase initialized with options: <firebase_admin._AppOptions object at 0x0000020D1CD3EC30>\n",
      "🔍 Confirmed databaseURL in Firebase app: https://umsports-linksync-default-rtdb.europe-west1.firebasedatabase.app/\n",
      "✅ Realtime Database connection successful! Check Firebase Console for 'test' data.\n"
     ]
    }
   ],
   "execution_count": 3
  },
  {
   "cell_type": "code",
   "id": "54c269ea-c722-44bf-9753-dd68ea0c5988",
   "metadata": {
    "ExecuteTime": {
     "end_time": "2025-02-23T10:13:54.210810Z",
     "start_time": "2025-02-23T10:13:51.249090Z"
    }
   },
   "source": [
    "#check comment\n",
    "import random\n",
    "def generate_random_data():\n",
    "    return {\n",
    "        \"skill_level\": random.choice([\"Beginner\", \"Intermediate\", \"Advanced\"]),\n",
    "        \"weight_class\": random.choice([\"Lightweight\", \"Middleweight\", \"Heavyweight\"]),\n",
    "        \"height\": random.randint(150, 200),  # Height in cm\n",
    "        \"training_frequency\": random.randint(1, 5),  # Days per week\n",
    "        \"preferred_training_time\": random.choice([\"Morning\", \"Afternoon\", \"Evening\"]),\n",
    "        \"fighting_style\": random.choice([\"Speed\", \"Power\", \"Defense\", \"Technical\", \"Balanced\"]),\n",
    "        \"previous_experience\": random.choice([\"None\", \"Boxing\", \"Muay Thai\", \"Karate\", \"Wrestling\"]),\n",
    "        \"injury_history\": random.choice([\"None\", \"Minor Injuries\", \"Past Fracture\", \"Joint Issues\"]),\n",
    "        \"preferred_cross_training\": random.choice([\n",
    "            [\"Strength Training\", \"Yoga\"],\n",
    "            [\"Cardio\", \"Agility Drills\"],\n",
    "            [\"Endurance Running\", \"Flexibility Drills\"]\n",
    "        ])\n",
    "    }\n",
    "\n",
    "def upload_users_to_firebase():\n",
    "    file_path = \"users.xlsx\"  # Ensure this file is in the correct path\n",
    "    users_df = pd.read_excel(file_path)\n",
    "\n",
    "    users_ref = db.reference(\"users\")  # Reference to Firebase \"users\" node\n",
    "\n",
    "    for _, row in users_df.iterrows():\n",
    "        username = row.get(\"Username\", f\"user_{random.randint(1000,9999)}\")\n",
    "        password = row.get(\"Password\", \"default_pass\")\n",
    "        name = row.get(\"Name\", \"Anonymous\")\n",
    "\n",
    "        user_data = generate_random_data()\n",
    "\n",
    "        # Overwrite generated values with actual ones from the file if available\n",
    "        user_data[\"skill_level\"] = row.get(\"Skill Level\", user_data[\"skill_level\"])\n",
    "        user_data[\"weight_class\"] = row.get(\"Weight Class\", user_data[\"weight_class\"])\n",
    "        user_data[\"height\"] = row.get(\"Height\", user_data[\"height\"])\n",
    "        user_data[\"training_frequency\"] = row.get(\"Training Frequency\", user_data[\"training_frequency\"])\n",
    "        user_data[\"preferred_training_time\"] = row.get(\"Preferred Training Time\", user_data[\"preferred_training_time\"])\n",
    "        user_data[\"fighting_style\"] = row.get(\"Fighting Style Preference\", user_data[\"fighting_style\"])\n",
    "        user_data[\"previous_experience\"] = row.get(\"Previous Experience\", user_data[\"previous_experience\"])\n",
    "        user_data[\"injury_history\"] = row.get(\"Injury History\", user_data[\"injury_history\"])\n",
    "        user_data[\"preferred_cross_training\"] = row.get(\"Preferred Cross-Training Activities\", user_data[\"preferred_cross_training\"])\n",
    "\n",
    "        # Add user data to Firebase\n",
    "        users_ref.child(username).set({\n",
    "            \"password\": password,\n",
    "            \"name\": name,\n",
    "            **user_data  # Merges generated and actual data\n",
    "        })\n",
    "\n",
    "    print(\"✅ All users uploaded to Firebase successfully!\")\n",
    "\n",
    "# Run the function to upload users\n",
    "upload_users_to_firebase()"
   ],
   "outputs": [
    {
     "name": "stdout",
     "output_type": "stream",
     "text": [
      "✅ All users uploaded to Firebase successfully!\n"
     ]
    }
   ],
   "execution_count": 5
  },
  {
   "metadata": {},
   "cell_type": "code",
   "outputs": [],
   "execution_count": null,
   "source": "",
   "id": "d8bd4d8ca7ec0f8b"
  }
 ],
 "metadata": {
  "kernelspec": {
   "display_name": "Python 3 (ipykernel)",
   "language": "python",
   "name": "python3"
  },
  "language_info": {
   "codemirror_mode": {
    "name": "ipython",
    "version": 3
   },
   "file_extension": ".py",
   "mimetype": "text/x-python",
   "name": "python",
   "nbconvert_exporter": "python",
   "pygments_lexer": "ipython3",
   "version": "3.12.5"
  }
 },
 "nbformat": 4,
 "nbformat_minor": 5
}
