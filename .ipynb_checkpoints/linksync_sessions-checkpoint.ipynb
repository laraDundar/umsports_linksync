{
 "cells": [
  {
   "cell_type": "code",
   "id": "c3dc2c34-6a34-4398-878e-793315280d4d",
   "metadata": {
    "ExecuteTime": {
     "end_time": "2025-02-19T14:05:07.935512Z",
     "start_time": "2025-02-19T14:05:07.931075Z"
    }
   },
   "source": [
    "import json\n",
    "import pandas as pd\n",
    "import os\n",
    "import firebase_admin\n",
    "from firebase_admin import credentials, db, initialize_app"
   ],
   "outputs": [],
   "execution_count": 4
  },
  {
   "cell_type": "code",
   "id": "a70a14f7-60cd-4b64-8f19-40bf510d086f",
   "metadata": {
    "ExecuteTime": {
     "end_time": "2025-02-19T14:06:16.544604Z",
     "start_time": "2025-02-19T14:06:16.504615Z"
    }
   },
   "source": [
    " #Get Firebase key path from environment variable or use a default local path\n",
    "cred_path = os.getenv(\"FIREBASE_KEY_PATH\", \"C:/Users/lara/Documents/firebase_key.json\")\n",
    "\n",
    "# Load Firebase credentials\n",
    "cred = credentials.Certificate(cred_path)\n",
    "\n",
    "# Initialize Firebase app with Realtime Database URL\n",
    "firebase_app = firebase_admin.initialize_app(cred, {'databaseURL': 'https://umsports-linksync-default-rtdb.europe-west1.firebasedatabase.app/' })"
   ],
   "outputs": [],
   "execution_count": 7
  },
  {
   "cell_type": "code",
   "id": "ccfb64bf-755d-4a0a-9020-e96c90e0073d",
   "metadata": {
    "ExecuteTime": {
     "end_time": "2025-02-19T14:06:31.374211Z",
     "start_time": "2025-02-19T14:06:31.158034Z"
    }
   },
   "source": [
    "# Testing by saving data\n",
    "ref = db.reference(\"/test_data\")  # Firebase path\n",
    "ref.set({\"message\": \"Hello from Python!\"})\n",
    "print(\"Data successfully written to Firebase!\")"
   ],
   "outputs": [
    {
     "name": "stdout",
     "output_type": "stream",
     "text": [
      "Data successfully written to Firebase!\n"
     ]
    }
   ],
   "execution_count": 8
  },
  {
   "cell_type": "code",
   "id": "f1923b10-6e11-4ba4-b71d-fc517b580c8d",
   "metadata": {
    "ExecuteTime": {
     "end_time": "2025-02-19T14:23:47.831788Z",
     "start_time": "2025-02-19T14:23:47.707943Z"
    }
   },
   "source": [
    "# Step 2: Load the Processed CSV Data\n",
    "file_path = \"Formatted_Session_Data-checkpoint.csv\"\n",
    "df = pd.read_csv(file_path)\n",
    "\n",
    "# Rename first column to \"Date\" if necessary\n",
    "df.rename(columns={\"Unnamed: 0\": \"Date\"}, inplace=True)\n",
    "\n",
    "# Step 3: Convert Data to Firebase-Compatible Format\n",
    "session_dict = {}\n",
    "\n",
    "for index, row in df.iterrows():\n",
    "    date = str(row[\"Date\"])  # Convert date to string YYYY-MM-DD\n",
    "\n",
    "    for sport in df.columns[1:]:  # Skip \"Date\" column\n",
    "        if pd.notna(row[sport]):  # Ensure it's not empty\n",
    "            sessions = eval(row[sport])  # Convert string to list\n",
    "            if date not in session_dict:\n",
    "                session_dict[date] = {}\n",
    "            session_dict[date][sport] = sessions\n",
    "\n",
    "# Step 4: Upload Data to Firebase\n",
    "ref = db.reference(\"/sessions\")  # Firebase path for session data\n",
    "ref.set(session_dict)  # Upload session dictionary\n",
    "\n",
    "print(\"Session data successfully uploaded to Firebase!\")"
   ],
   "outputs": [
    {
     "name": "stdout",
     "output_type": "stream",
     "text": [
      "Session data successfully uploaded to Firebase!\n"
     ]
    }
   ],
   "execution_count": 11
  },
  {
   "cell_type": "code",
   "id": "ff42b9fb-0071-48bf-910c-029fd3775b75",
   "metadata": {
    "ExecuteTime": {
     "end_time": "2025-02-19T14:23:57.412271Z",
     "start_time": "2025-02-19T14:23:57.353170Z"
    }
   },
   "source": [
    "file_path = \"Formatted_Session_Data-checkpoint.csv\"\n",
    "df = pd.read_csv(file_path)\n",
    "\n",
    "df.rename(columns={\"Unnamed: 0\": \"Date\"}, inplace=True)\n",
    "\n",
    "# Step 3: Convert Data to a Simple List Format for Thunkable\n",
    "session_list = []\n",
    "\n",
    "for index, row in df.iterrows():\n",
    "    date = str(row[\"Date\"])  # Convert date to string YYYY-MM-DD\n",
    "\n",
    "    for sport in df.columns[1:]:  # Skip \"Date\" column\n",
    "        if pd.notna(row[sport]):  # Ensure it's not empty\n",
    "            sessions = eval(row[sport])  # Convert string to list\n",
    "            for session in sessions:\n",
    "                formatted_session = f\"{sport}: {session['start']} - {session['end']} ({date})\"\n",
    "                session_list.append(formatted_session)\n",
    "\n",
    "# Step 4: Upload Simple List to Firebase\n",
    "ref = db.reference(\"/formatted_sessions\")  # Store in a new Firebase path\n",
    "ref.set(session_list)  # Upload simple list\n",
    "\n",
    "print(\" Session data successfully formatted and uploaded to Firebase!\")\n"
   ],
   "outputs": [
    {
     "name": "stdout",
     "output_type": "stream",
     "text": [
      " Session data successfully formatted and uploaded to Firebase!\n"
     ]
    }
   ],
   "execution_count": 12
  },
  {
   "metadata": {},
   "cell_type": "code",
   "outputs": [],
   "execution_count": null,
   "source": "",
   "id": "b85aa3de02fb7057"
  }
 ],
 "metadata": {
  "kernelspec": {
   "display_name": "Python 3 (ipykernel)",
   "language": "python",
   "name": "python3"
  },
  "language_info": {
   "codemirror_mode": {
    "name": "ipython",
    "version": 3
   },
   "file_extension": ".py",
   "mimetype": "text/x-python",
   "name": "python",
   "nbconvert_exporter": "python",
   "pygments_lexer": "ipython3",
   "version": "3.12.5"
  }
 },
 "nbformat": 4,
 "nbformat_minor": 5
}
