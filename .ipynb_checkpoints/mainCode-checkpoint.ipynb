{
 "cells": [
  {
   "cell_type": "code",
   "execution_count": 1,
   "id": "efccdbd3-ee7f-4be2-8cad-6eba7e489b90",
   "metadata": {},
   "outputs": [
    {
     "name": "stderr",
     "output_type": "stream",
     "text": [
      "C:\\Users\\lara\\AppData\\Local\\Temp\\ipykernel_18656\\1802124736.py:4: DeprecationWarning: \n",
      "Pyarrow will become a required dependency of pandas in the next major release of pandas (pandas 3.0),\n",
      "(to allow more performant data types, such as the Arrow string type, and better interoperability with other libraries)\n",
      "but was not found to be installed on your system.\n",
      "If this would cause problems for you,\n",
      "please provide us feedback at https://github.com/pandas-dev/pandas/issues/54466\n",
      "        \n",
      "  import pandas as pd\n"
     ]
    }
   ],
   "source": [
    "import os\n",
    "import firebase_admin\n",
    "from firebase_admin import credentials, db\n",
    "import pandas as pd"
   ]
  },
  {
   "cell_type": "code",
   "execution_count": 2,
   "id": "2873e819-7ef4-4c98-98d0-73d3b2163101",
   "metadata": {},
   "outputs": [
    {
     "name": "stdout",
     "output_type": "stream",
     "text": [
      "🔍 Using Firebase Key Path: C:\\Users\\lara\\Documents\\firebase_key.json\n",
      "🔍 Using Database URL: https://umsports-linksync-default-rtdb.europe-west1.firebasedatabase.app/\n",
      "✅ Firebase initialized with options: <firebase_admin._AppOptions object at 0x0000015C7F4C04D0>\n",
      "🔍 Confirmed databaseURL in Firebase app: https://umsports-linksync-default-rtdb.europe-west1.firebasedatabase.app/\n",
      "✅ Realtime Database connection successful! Check Firebase Console for 'test' data.\n"
     ]
    }
   ],
   "source": [
    "# ✅ Get Firebase credentials path\n",
    "cred_path = os.getenv(\"FIREBASE_KEY_PATH\")\n",
    "\n",
    "if not cred_path:\n",
    "    raise ValueError(\"FIREBASE_KEY_PATH is not set. Make sure the environment variable is configured.\")\n",
    "\n",
    "# ✅ Define database URL\n",
    "DATABASE_URL = \"https://umsports-linksync-default-rtdb.europe-west1.firebasedatabase.app/\"\n",
    "\n",
    "# ✅ Print debug info\n",
    "print(\"🔍 Using Firebase Key Path:\", cred_path)\n",
    "print(\"🔍 Using Database URL:\", DATABASE_URL)\n",
    "\n",
    "# ✅ Initialize Firebase if not already initialized\n",
    "if not firebase_admin._apps:\n",
    "    cred = credentials.Certificate(cred_path)\n",
    "    firebase_admin.initialize_app(cred, {'databaseURL': DATABASE_URL})\n",
    "\n",
    "# ✅ Check if databaseURL is set correctly\n",
    "app = firebase_admin.get_app()\n",
    "print(\"✅ Firebase initialized with options:\", app.options)\n",
    "\n",
    "# ✅ Explicitly print databaseURL\n",
    "print(\"🔍 Confirmed databaseURL in Firebase app:\", app.options.get(\"databaseURL\"))\n",
    "\n",
    "# ✅ Connect to Realtime Database\n",
    "ref = db.reference(\"/\")  # Root of the database\n",
    "\n",
    "# ✅ Test writing data\n",
    "ref.child(\"test\").set({\n",
    "    \"message\": \"Realtime Database is working!\"\n",
    "})\n",
    "\n",
    "print(\"✅ Realtime Database connection successful! Check Firebase Console for 'test' data.\")"
   ]
  },
  {
   "cell_type": "code",
   "execution_count": 3,
   "id": "54c269ea-c722-44bf-9753-dd68ea0c5988",
   "metadata": {},
   "outputs": [
    {
     "name": "stdout",
     "output_type": "stream",
     "text": [
      "✅ All users uploaded to Firebase successfully!\n"
     ]
    }
   ],
   "source": [
    "def upload_users_to_firebase():\n",
    "    file_path = \"users.xlsx\"  # Ensure this file is in the correct path\n",
    "    users_df = pd.read_excel(file_path)\n",
    "\n",
    "    users_ref = db.reference(\"users\")  # Reference to Firebase \"users\" node\n",
    "\n",
    "    for _, row in users_df.iterrows():\n",
    "        username = row[\"Username\"]\n",
    "        password = row[\"Password\"]\n",
    "        name = row[\"Name\"]\n",
    "\n",
    "        # Add user data to Firebase\n",
    "        users_ref.child(username).set({\n",
    "            \"password\": password,\n",
    "            \"name\": name\n",
    "        })\n",
    "\n",
    "    print(\"✅ All users uploaded to Firebase successfully!\")\n",
    "\n",
    "# Run the function to upload users\n",
    "upload_users_to_firebase()"
   ]
  },
  {
   "cell_type": "code",
   "execution_count": 7,
   "id": "c26948d7-6fc5-4830-b2f0-dc3fcd7fe1f3",
   "metadata": {},
   "outputs": [
    {
     "ename": "AttributeError",
     "evalue": "'str' object has no attribute 'get'",
     "output_type": "error",
     "traceback": [
      "\u001b[1;31m---------------------------------------------------------------------------\u001b[0m",
      "\u001b[1;31mAttributeError\u001b[0m                            Traceback (most recent call last)",
      "Cell \u001b[1;32mIn[7], line 36\u001b[0m\n\u001b[0;32m     33\u001b[0m     \u001b[38;5;28mprint\u001b[39m(\u001b[38;5;124m\"\u001b[39m\u001b[38;5;124m✅ User logged out, session cleared from Firebase.\u001b[39m\u001b[38;5;124m\"\u001b[39m)\n\u001b[0;32m     35\u001b[0m \u001b[38;5;66;03m# Run login check once and exit\u001b[39;00m\n\u001b[1;32m---> 36\u001b[0m \u001b[43mcheck_login\u001b[49m\u001b[43m(\u001b[49m\u001b[43m)\u001b[49m\n",
      "Cell \u001b[1;32mIn[7], line 7\u001b[0m, in \u001b[0;36mcheck_login\u001b[1;34m()\u001b[0m\n\u001b[0;32m      4\u001b[0m login_ref \u001b[38;5;241m=\u001b[39m db\u001b[38;5;241m.\u001b[39mreference(\u001b[38;5;124m\"\u001b[39m\u001b[38;5;124mlogin_attempt\u001b[39m\u001b[38;5;124m\"\u001b[39m)\n\u001b[0;32m      5\u001b[0m login_data \u001b[38;5;241m=\u001b[39m login_ref\u001b[38;5;241m.\u001b[39mget()\n\u001b[1;32m----> 7\u001b[0m \u001b[38;5;28;01mif\u001b[39;00m login_data \u001b[38;5;129;01mand\u001b[39;00m \u001b[43mlogin_data\u001b[49m\u001b[38;5;241;43m.\u001b[39;49m\u001b[43mget\u001b[49m(\u001b[38;5;124m\"\u001b[39m\u001b[38;5;124musername\u001b[39m\u001b[38;5;124m\"\u001b[39m) \u001b[38;5;129;01mand\u001b[39;00m login_data\u001b[38;5;241m.\u001b[39mget(\u001b[38;5;124m\"\u001b[39m\u001b[38;5;124mpassword\u001b[39m\u001b[38;5;124m\"\u001b[39m):\n\u001b[0;32m      8\u001b[0m     username \u001b[38;5;241m=\u001b[39m login_data[\u001b[38;5;124m\"\u001b[39m\u001b[38;5;124musername\u001b[39m\u001b[38;5;124m\"\u001b[39m]\n\u001b[0;32m      9\u001b[0m     password \u001b[38;5;241m=\u001b[39m login_data[\u001b[38;5;124m\"\u001b[39m\u001b[38;5;124mpassword\u001b[39m\u001b[38;5;124m\"\u001b[39m]\n",
      "\u001b[1;31mAttributeError\u001b[0m: 'str' object has no attribute 'get'"
     ]
    }
   ],
   "source": [
    "def check_login():\n",
    "    login_ref = db.reference(\"login_attempt\")\n",
    "    login_data = login_ref.get()\n",
    "\n",
    "    # 🔍 Ensure login_data is a dictionary, not a string\n",
    "    if isinstance(login_data, str):  \n",
    "        try:\n",
    "            login_data = json.loads(login_data)  # Convert string to dictionary\n",
    "        except json.JSONDecodeError:\n",
    "            login_data = {}  # If decoding fails, set to empty dictionary\n",
    "\n",
    "    if login_data and login_data.get(\"username\") and login_data.get(\"password\"):\n",
    "        username = login_data[\"username\"]\n",
    "        password = login_data[\"password\"]\n",
    "\n",
    "        # Fetch user data from Firebase\n",
    "        user_ref = db.reference(f\"users/{username}\")\n",
    "        user_data = user_ref.get()\n",
    "\n",
    "        if user_data and user_data.get(\"password\") == password:\n",
    "            name = user_data[\"name\"]\n",
    "            message = f\"Hello user {name}\"\n",
    "\n",
    "            # Store active session in Firebase\n",
    "            db.reference(\"active_user\").set({\"username\": username, \"name\": name})\n",
    "        else:\n",
    "            message = \"Invalid login\"\n",
    "\n",
    "        # Update login status in Firebase\n",
    "        db.reference(\"login_status\").update({\"message\": message})\n",
    "\n",
    "        # Clear login attempt after processing\n",
    "        login_ref.delete()"
   ]
  },
  {
   "cell_type": "code",
   "execution_count": null,
   "id": "94c3ac89-ccec-405e-ad7f-76d491a867c7",
   "metadata": {},
   "outputs": [],
   "source": []
  }
 ],
 "metadata": {
  "kernelspec": {
   "display_name": "Python 3 (ipykernel)",
   "language": "python",
   "name": "python3"
  },
  "language_info": {
   "codemirror_mode": {
    "name": "ipython",
    "version": 3
   },
   "file_extension": ".py",
   "mimetype": "text/x-python",
   "name": "python",
   "nbconvert_exporter": "python",
   "pygments_lexer": "ipython3",
   "version": "3.12.5"
  }
 },
 "nbformat": 4,
 "nbformat_minor": 5
}
