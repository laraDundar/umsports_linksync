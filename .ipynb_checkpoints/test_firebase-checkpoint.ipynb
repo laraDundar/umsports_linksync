{
 "cells": [
  {
   "cell_type": "code",
   "execution_count": 6,
   "id": "4f6a4485-2fd1-47bd-a1c2-2ef0cf16a268",
   "metadata": {},
   "outputs": [],
   "source": [
    "import os\n",
    "import firebase_admin\n",
    "from firebase_admin import credentials, db"
   ]
  },
  {
   "cell_type": "code",
   "execution_count": 8,
   "id": "45e08422-c211-420a-ab46-14934cbb6989",
   "metadata": {},
   "outputs": [
    {
     "name": "stdout",
     "output_type": "stream",
     "text": [
      "🔍 Using Firebase Key Path: C:\\Users\\lara\\Documents\\firebase_key.json\n",
      "🔍 Using Database URL: https://umsports-linksync-default-rtdb.europe-west1.firebasedatabase.app/\n",
      "✅ Firebase initialized with: <firebase_admin._AppOptions object at 0x00000295CE114110>\n"
     ]
    },
    {
     "ename": "ValueError",
     "evalue": "Invalid database URL: \"None\". Database URL must be a non-empty URL string.",
     "output_type": "error",
     "traceback": [
      "\u001b[1;31m---------------------------------------------------------------------------\u001b[0m",
      "\u001b[1;31mValueError\u001b[0m                                Traceback (most recent call last)",
      "Cell \u001b[1;32mIn[8], line 24\u001b[0m\n\u001b[0;32m     21\u001b[0m \u001b[38;5;28mprint\u001b[39m(\u001b[38;5;124m\"\u001b[39m\u001b[38;5;124m✅ Firebase initialized with:\u001b[39m\u001b[38;5;124m\"\u001b[39m, app\u001b[38;5;241m.\u001b[39moptions)\n\u001b[0;32m     23\u001b[0m \u001b[38;5;66;03m# ✅ Connect to Realtime Database\u001b[39;00m\n\u001b[1;32m---> 24\u001b[0m ref \u001b[38;5;241m=\u001b[39m \u001b[43mdb\u001b[49m\u001b[38;5;241;43m.\u001b[39;49m\u001b[43mreference\u001b[49m\u001b[43m(\u001b[49m\u001b[38;5;124;43m\"\u001b[39;49m\u001b[38;5;124;43m/\u001b[39;49m\u001b[38;5;124;43m\"\u001b[39;49m\u001b[43m)\u001b[49m  \u001b[38;5;66;03m# Root of the database\u001b[39;00m\n\u001b[0;32m     26\u001b[0m \u001b[38;5;66;03m# ✅ Test writing data\u001b[39;00m\n\u001b[0;32m     27\u001b[0m ref\u001b[38;5;241m.\u001b[39mchild(\u001b[38;5;124m\"\u001b[39m\u001b[38;5;124mtest\u001b[39m\u001b[38;5;124m\"\u001b[39m)\u001b[38;5;241m.\u001b[39mset({\n\u001b[0;32m     28\u001b[0m     \u001b[38;5;124m\"\u001b[39m\u001b[38;5;124mmessage\u001b[39m\u001b[38;5;124m\"\u001b[39m: \u001b[38;5;124m\"\u001b[39m\u001b[38;5;124mRealtime Database is working!\u001b[39m\u001b[38;5;124m\"\u001b[39m\n\u001b[0;32m     29\u001b[0m })\n",
      "File \u001b[1;32m~\\AppData\\Local\\Programs\\Python\\Python312\\Lib\\site-packages\\firebase_admin\\db.py:69\u001b[0m, in \u001b[0;36mreference\u001b[1;34m(path, app, url)\u001b[0m\n\u001b[0;32m     49\u001b[0m \u001b[38;5;250m\u001b[39m\u001b[38;5;124;03m\"\"\"Returns a database ``Reference`` representing the node at the specified path.\u001b[39;00m\n\u001b[0;32m     50\u001b[0m \n\u001b[0;32m     51\u001b[0m \u001b[38;5;124;03mIf no path is specified, this function returns a ``Reference`` that represents the database\u001b[39;00m\n\u001b[1;32m   (...)\u001b[0m\n\u001b[0;32m     66\u001b[0m \u001b[38;5;124;03m  ValueError: If the specified path or app is invalid.\u001b[39;00m\n\u001b[0;32m     67\u001b[0m \u001b[38;5;124;03m\"\"\"\u001b[39;00m\n\u001b[0;32m     68\u001b[0m service \u001b[38;5;241m=\u001b[39m _utils\u001b[38;5;241m.\u001b[39mget_app_service(app, _DB_ATTRIBUTE, _DatabaseService)\n\u001b[1;32m---> 69\u001b[0m client \u001b[38;5;241m=\u001b[39m \u001b[43mservice\u001b[49m\u001b[38;5;241;43m.\u001b[39;49m\u001b[43mget_client\u001b[49m\u001b[43m(\u001b[49m\u001b[43murl\u001b[49m\u001b[43m)\u001b[49m\n\u001b[0;32m     70\u001b[0m \u001b[38;5;28;01mreturn\u001b[39;00m Reference(client\u001b[38;5;241m=\u001b[39mclient, path\u001b[38;5;241m=\u001b[39mpath)\n",
      "File \u001b[1;32m~\\AppData\\Local\\Programs\\Python\\Python312\\Lib\\site-packages\\firebase_admin\\db.py:798\u001b[0m, in \u001b[0;36m_DatabaseService.get_client\u001b[1;34m(self, db_url)\u001b[0m\n\u001b[0;32m    795\u001b[0m     db_url \u001b[38;5;241m=\u001b[39m \u001b[38;5;28mself\u001b[39m\u001b[38;5;241m.\u001b[39m_db_url\n\u001b[0;32m    797\u001b[0m \u001b[38;5;28;01mif\u001b[39;00m \u001b[38;5;129;01mnot\u001b[39;00m db_url \u001b[38;5;129;01mor\u001b[39;00m \u001b[38;5;129;01mnot\u001b[39;00m \u001b[38;5;28misinstance\u001b[39m(db_url, \u001b[38;5;28mstr\u001b[39m):\n\u001b[1;32m--> 798\u001b[0m     \u001b[38;5;28;01mraise\u001b[39;00m \u001b[38;5;167;01mValueError\u001b[39;00m(\n\u001b[0;32m    799\u001b[0m         \u001b[38;5;124m'\u001b[39m\u001b[38;5;124mInvalid database URL: \u001b[39m\u001b[38;5;124m\"\u001b[39m\u001b[38;5;132;01m{0}\u001b[39;00m\u001b[38;5;124m\"\u001b[39m\u001b[38;5;124m. Database URL must be a non-empty \u001b[39m\u001b[38;5;124m'\u001b[39m\n\u001b[0;32m    800\u001b[0m         \u001b[38;5;124m'\u001b[39m\u001b[38;5;124mURL string.\u001b[39m\u001b[38;5;124m'\u001b[39m\u001b[38;5;241m.\u001b[39mformat(db_url))\n\u001b[0;32m    802\u001b[0m parsed_url \u001b[38;5;241m=\u001b[39m parse\u001b[38;5;241m.\u001b[39murlparse(db_url)\n\u001b[0;32m    803\u001b[0m \u001b[38;5;28;01mif\u001b[39;00m \u001b[38;5;129;01mnot\u001b[39;00m parsed_url\u001b[38;5;241m.\u001b[39mnetloc:\n",
      "\u001b[1;31mValueError\u001b[0m: Invalid database URL: \"None\". Database URL must be a non-empty URL string."
     ]
    }
   ],
   "source": [
    "\n",
    "# ✅ Get Firebase credentials path\n",
    "cred_path = os.getenv(\"FIREBASE_KEY_PATH\")\n",
    "\n",
    "if not cred_path:\n",
    "    raise ValueError(\"FIREBASE_KEY_PATH is not set. Make sure the environment variable is configured.\")\n",
    "\n",
    "# ✅ Define database URL\n",
    "DATABASE_URL = \"https://umsports-linksync-default-rtdb.europe-west1.firebasedatabase.app/\"\n",
    "\n",
    "# ✅ Print debug info\n",
    "print(\"🔍 Using Firebase Key Path:\", cred_path)\n",
    "print(\"🔍 Using Database URL:\", DATABASE_URL)\n",
    "\n",
    "# ✅ Initialize Firebase if not already initialized\n",
    "if not firebase_admin._apps:\n",
    "    cred = credentials.Certificate(cred_path)\n",
    "    firebase_admin.initialize_app(cred, {'databaseURL': DATABASE_URL})\n",
    "\n",
    "# ✅ Check if databaseURL is set correctly\n",
    "app = firebase_admin.get_app()\n",
    "print(\"✅ Firebase initialized with options:\", app.options)\n",
    "\n",
    "# ✅ Explicitly print databaseURL\n",
    "print(\"🔍 Confirmed databaseURL in Firebase app:\", app.options.get(\"databaseURL\"))\n",
    "\n",
    "# ✅ Connect to Realtime Database\n",
    "ref = db.reference(\"/\")  # Root of the database\n",
    "\n",
    "# ✅ Test writing data\n",
    "ref.child(\"test\").set({\n",
    "    \"message\": \"Realtime Database is working!\"\n",
    "})\n",
    "\n",
    "print(\"✅ Realtime Database connection successful! Check Firebase Console for 'test' data.\")"
   ]
  },
  {
   "cell_type": "code",
   "execution_count": null,
   "id": "a5eb3f1d-d43c-4e2a-aa31-b930fd16a0c5",
   "metadata": {},
   "outputs": [],
   "source": []
  }
 ],
 "metadata": {
  "kernelspec": {
   "display_name": "Python 3 (ipykernel)",
   "language": "python",
   "name": "python3"
  },
  "language_info": {
   "codemirror_mode": {
    "name": "ipython",
    "version": 3
   },
   "file_extension": ".py",
   "mimetype": "text/x-python",
   "name": "python",
   "nbconvert_exporter": "python",
   "pygments_lexer": "ipython3",
   "version": "3.12.5"
  }
 },
 "nbformat": 4,
 "nbformat_minor": 5
}
